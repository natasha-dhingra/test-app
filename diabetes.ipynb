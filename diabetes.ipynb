{
 "cells": [
  {
   "cell_type": "code",
   "execution_count": 1,
   "id": "9a4792aa",
   "metadata": {},
   "outputs": [],
   "source": [
    "import numpy as np\n",
    "import pandas as pd\n",
    "import matplotlib.pyplot as plt\n",
    "import seaborn as sns"
   ]
  },
  {
   "cell_type": "code",
   "execution_count": 2,
   "id": "4397d50d",
   "metadata": {},
   "outputs": [],
   "source": [
    "df=pd.read_csv('diabetes.csv')"
   ]
  },
  {
   "cell_type": "code",
   "execution_count": 3,
   "id": "2e394852",
   "metadata": {},
   "outputs": [
    {
     "data": {
      "text/html": [
       "<div>\n",
       "<style scoped>\n",
       "    .dataframe tbody tr th:only-of-type {\n",
       "        vertical-align: middle;\n",
       "    }\n",
       "\n",
       "    .dataframe tbody tr th {\n",
       "        vertical-align: top;\n",
       "    }\n",
       "\n",
       "    .dataframe thead th {\n",
       "        text-align: right;\n",
       "    }\n",
       "</style>\n",
       "<table border=\"1\" class=\"dataframe\">\n",
       "  <thead>\n",
       "    <tr style=\"text-align: right;\">\n",
       "      <th></th>\n",
       "      <th>Pregnancies</th>\n",
       "      <th>Glucose</th>\n",
       "      <th>BloodPressure</th>\n",
       "      <th>SkinThickness</th>\n",
       "      <th>Insulin</th>\n",
       "      <th>BMI</th>\n",
       "      <th>DiabetesPedigreeFunction</th>\n",
       "      <th>Age</th>\n",
       "      <th>Outcome</th>\n",
       "    </tr>\n",
       "  </thead>\n",
       "  <tbody>\n",
       "    <tr>\n",
       "      <th>0</th>\n",
       "      <td>6</td>\n",
       "      <td>148</td>\n",
       "      <td>72</td>\n",
       "      <td>35</td>\n",
       "      <td>0</td>\n",
       "      <td>33.6</td>\n",
       "      <td>0.627</td>\n",
       "      <td>50</td>\n",
       "      <td>1</td>\n",
       "    </tr>\n",
       "    <tr>\n",
       "      <th>1</th>\n",
       "      <td>1</td>\n",
       "      <td>85</td>\n",
       "      <td>66</td>\n",
       "      <td>29</td>\n",
       "      <td>0</td>\n",
       "      <td>26.6</td>\n",
       "      <td>0.351</td>\n",
       "      <td>31</td>\n",
       "      <td>0</td>\n",
       "    </tr>\n",
       "    <tr>\n",
       "      <th>2</th>\n",
       "      <td>8</td>\n",
       "      <td>183</td>\n",
       "      <td>64</td>\n",
       "      <td>0</td>\n",
       "      <td>0</td>\n",
       "      <td>23.3</td>\n",
       "      <td>0.672</td>\n",
       "      <td>32</td>\n",
       "      <td>1</td>\n",
       "    </tr>\n",
       "    <tr>\n",
       "      <th>3</th>\n",
       "      <td>1</td>\n",
       "      <td>89</td>\n",
       "      <td>66</td>\n",
       "      <td>23</td>\n",
       "      <td>94</td>\n",
       "      <td>28.1</td>\n",
       "      <td>0.167</td>\n",
       "      <td>21</td>\n",
       "      <td>0</td>\n",
       "    </tr>\n",
       "    <tr>\n",
       "      <th>4</th>\n",
       "      <td>0</td>\n",
       "      <td>137</td>\n",
       "      <td>40</td>\n",
       "      <td>35</td>\n",
       "      <td>168</td>\n",
       "      <td>43.1</td>\n",
       "      <td>2.288</td>\n",
       "      <td>33</td>\n",
       "      <td>1</td>\n",
       "    </tr>\n",
       "  </tbody>\n",
       "</table>\n",
       "</div>"
      ],
      "text/plain": [
       "   Pregnancies  Glucose  BloodPressure  SkinThickness  Insulin   BMI  \\\n",
       "0            6      148             72             35        0  33.6   \n",
       "1            1       85             66             29        0  26.6   \n",
       "2            8      183             64              0        0  23.3   \n",
       "3            1       89             66             23       94  28.1   \n",
       "4            0      137             40             35      168  43.1   \n",
       "\n",
       "   DiabetesPedigreeFunction  Age  Outcome  \n",
       "0                     0.627   50        1  \n",
       "1                     0.351   31        0  \n",
       "2                     0.672   32        1  \n",
       "3                     0.167   21        0  \n",
       "4                     2.288   33        1  "
      ]
     },
     "execution_count": 3,
     "metadata": {},
     "output_type": "execute_result"
    }
   ],
   "source": [
    "df.head()"
   ]
  },
  {
   "cell_type": "code",
   "execution_count": 4,
   "id": "d10187a3",
   "metadata": {},
   "outputs": [
    {
     "data": {
      "text/plain": [
       "(768, 9)"
      ]
     },
     "execution_count": 4,
     "metadata": {},
     "output_type": "execute_result"
    }
   ],
   "source": [
    "df.shape"
   ]
  },
  {
   "cell_type": "code",
   "execution_count": 5,
   "id": "75d5f5ff",
   "metadata": {},
   "outputs": [
    {
     "data": {
      "text/plain": [
       "Pregnancies                 111\n",
       "Glucose                       5\n",
       "BloodPressure                35\n",
       "SkinThickness               227\n",
       "Insulin                     374\n",
       "BMI                          11\n",
       "DiabetesPedigreeFunction      0\n",
       "Age                           0\n",
       "Outcome                     500\n",
       "dtype: int64"
      ]
     },
     "execution_count": 5,
     "metadata": {},
     "output_type": "execute_result"
    }
   ],
   "source": [
    "df.eq(0).sum()"
   ]
  },
  {
   "cell_type": "code",
   "execution_count": 6,
   "id": "ba8b710f",
   "metadata": {},
   "outputs": [
    {
     "data": {
      "text/plain": [
       "<AxesSubplot:>"
      ]
     },
     "execution_count": 6,
     "metadata": {},
     "output_type": "execute_result"
    },
    {
     "data": {
      "image/png": "[encoded data removed]",
      "text/plain": [
       "<Figure size 432x288 with 2 Axes>"
      ]
     },
     "metadata": {
      "needs_background": "light"
     },
     "output_type": "display_data"
    }
   ],
   "source": [
    "sns.heatmap(df)"
   ]
  },
  {
   "cell_type": "code",
   "execution_count": 9,
   "id": "e3115ca1",
   "metadata": {},
   "outputs": [],
   "source": [
    "df[['Glucose','BloodPressure','SkinThickness','Insulin','BMI']]=df[['Glucose','BloodPressure','SkinThickness','Insulin','BMI']].replace(0,np.nan)"
   ]
  },
  {
   "cell_type": "code",
   "execution_count": 10,
   "id": "d3e86be5",
   "metadata": {},
   "outputs": [
    {
     "data": {
      "text/plain": [
       "<AxesSubplot:>"
      ]
     },
     "execution_count": 10,
     "metadata": {},
     "output_type": "execute_result"
    },
    {
     "data": {
      "image/png": "[encoded data removed]",
      "text/plain": [
       "<Figure size 432x288 with 2 Axes>"
      ]
     },
     "metadata": {
      "needs_background": "light"
     },
     "output_type": "display_data"
    }
   ],
   "source": [
    "sns.heatmap(df.isnull())"
   ]
  },
  {
   "cell_type": "code",
   "execution_count": 11,
   "id": "c3ff6bb6",
   "metadata": {},
   "outputs": [
    {
     "data": {
      "text/plain": [
       "Pregnancies                   0\n",
       "Glucose                       5\n",
       "BloodPressure                35\n",
       "SkinThickness               227\n",
       "Insulin                     374\n",
       "BMI                          11\n",
       "DiabetesPedigreeFunction      0\n",
       "Age                           0\n",
       "Outcome                       0\n",
       "dtype: int64"
      ]
     },
     "execution_count": 11,
     "metadata": {},
     "output_type": "execute_result"
    }
   ],
   "source": [
    "df.isnull().sum()"
   ]
  },
  {
   "cell_type": "code",
   "execution_count": 12,
   "id": "c9920ab9",
   "metadata": {},
   "outputs": [
    {
     "data": {
      "text/plain": [
       "Pregnancies                   3.845052\n",
       "Glucose                     121.686763\n",
       "BloodPressure                72.405184\n",
       "SkinThickness                29.153420\n",
       "Insulin                     155.548223\n",
       "BMI                          32.457464\n",
       "DiabetesPedigreeFunction      0.471876\n",
       "Age                          33.240885\n",
       "Outcome                       0.348958\n",
       "dtype: float64"
      ]
     },
     "execution_count": 12,
     "metadata": {},
     "output_type": "execute_result"
    }
   ],
   "source": [
    "df.mean()"
   ]
  },
  {
   "cell_type": "code",
   "execution_count": 13,
   "id": "9820c862",
   "metadata": {},
   "outputs": [],
   "source": [
    "df.fillna(df.mean(),inplace=True)"
   ]
  },
  {
   "cell_type": "code",
   "execution_count": 14,
   "id": "b5e9f475",
   "metadata": {},
   "outputs": [
    {
     "data": {
      "text/plain": [
       "<AxesSubplot:>"
      ]
     },
     "execution_count": 14,
     "metadata": {},
     "output_type": "execute_result"
    },
    {
     "data": {
      "image/png": "[encoded data removed]",
      "text/plain": [
       "<Figure size 432x288 with 2 Axes>"
      ]
     },
     "metadata": {
      "needs_background": "light"
     },
     "output_type": "display_data"
    }
   ],
   "source": [
    "sns.heatmap(df.isnull())"
   ]
  },
  {
   "cell_type": "code",
   "execution_count": 15,
   "id": "fd51b12d",
   "metadata": {},
   "outputs": [
    {
     "data": {
      "text/html": [
       "<div>\n",
       "<style scoped>\n",
       "    .dataframe tbody tr th:only-of-type {\n",
       "        vertical-align: middle;\n",
       "    }\n",
       "\n",
       "    .dataframe tbody tr th {\n",
       "        vertical-align: top;\n",
       "    }\n",
       "\n",
       "    .dataframe thead th {\n",
       "        text-align: right;\n",
       "    }\n",
       "</style>\n",
       "<table border=\"1\" class=\"dataframe\">\n",
       "  <thead>\n",
       "    <tr style=\"text-align: right;\">\n",
       "      <th></th>\n",
       "      <th>Pregnancies</th>\n",
       "      <th>Glucose</th>\n",
       "      <th>BloodPressure</th>\n",
       "      <th>SkinThickness</th>\n",
       "      <th>Insulin</th>\n",
       "      <th>BMI</th>\n",
       "      <th>DiabetesPedigreeFunction</th>\n",
       "      <th>Age</th>\n",
       "      <th>Outcome</th>\n",
       "    </tr>\n",
       "  </thead>\n",
       "  <tbody>\n",
       "    <tr>\n",
       "      <th>Pregnancies</th>\n",
       "      <td>1.000000</td>\n",
       "      <td>0.127911</td>\n",
       "      <td>0.208522</td>\n",
       "      <td>0.082989</td>\n",
       "      <td>0.056027</td>\n",
       "      <td>0.021565</td>\n",
       "      <td>-0.033523</td>\n",
       "      <td>0.544341</td>\n",
       "      <td>0.221898</td>\n",
       "    </tr>\n",
       "    <tr>\n",
       "      <th>Glucose</th>\n",
       "      <td>0.127911</td>\n",
       "      <td>1.000000</td>\n",
       "      <td>0.218367</td>\n",
       "      <td>0.192991</td>\n",
       "      <td>0.420157</td>\n",
       "      <td>0.230941</td>\n",
       "      <td>0.137060</td>\n",
       "      <td>0.266534</td>\n",
       "      <td>0.492928</td>\n",
       "    </tr>\n",
       "    <tr>\n",
       "      <th>BloodPressure</th>\n",
       "      <td>0.208522</td>\n",
       "      <td>0.218367</td>\n",
       "      <td>1.000000</td>\n",
       "      <td>0.192816</td>\n",
       "      <td>0.072517</td>\n",
       "      <td>0.281268</td>\n",
       "      <td>-0.002763</td>\n",
       "      <td>0.324595</td>\n",
       "      <td>0.166074</td>\n",
       "    </tr>\n",
       "    <tr>\n",
       "      <th>SkinThickness</th>\n",
       "      <td>0.082989</td>\n",
       "      <td>0.192991</td>\n",
       "      <td>0.192816</td>\n",
       "      <td>1.000000</td>\n",
       "      <td>0.158139</td>\n",
       "      <td>0.542398</td>\n",
       "      <td>0.100966</td>\n",
       "      <td>0.127872</td>\n",
       "      <td>0.215299</td>\n",
       "    </tr>\n",
       "    <tr>\n",
       "      <th>Insulin</th>\n",
       "      <td>0.056027</td>\n",
       "      <td>0.420157</td>\n",
       "      <td>0.072517</td>\n",
       "      <td>0.158139</td>\n",
       "      <td>1.000000</td>\n",
       "      <td>0.166586</td>\n",
       "      <td>0.098634</td>\n",
       "      <td>0.136734</td>\n",
       "      <td>0.214411</td>\n",
       "    </tr>\n",
       "    <tr>\n",
       "      <th>BMI</th>\n",
       "      <td>0.021565</td>\n",
       "      <td>0.230941</td>\n",
       "      <td>0.281268</td>\n",
       "      <td>0.542398</td>\n",
       "      <td>0.166586</td>\n",
       "      <td>1.000000</td>\n",
       "      <td>0.153400</td>\n",
       "      <td>0.025519</td>\n",
       "      <td>0.311924</td>\n",
       "    </tr>\n",
       "    <tr>\n",
       "      <th>DiabetesPedigreeFunction</th>\n",
       "      <td>-0.033523</td>\n",
       "      <td>0.137060</td>\n",
       "      <td>-0.002763</td>\n",
       "      <td>0.100966</td>\n",
       "      <td>0.098634</td>\n",
       "      <td>0.153400</td>\n",
       "      <td>1.000000</td>\n",
       "      <td>0.033561</td>\n",
       "      <td>0.173844</td>\n",
       "    </tr>\n",
       "    <tr>\n",
       "      <th>Age</th>\n",
       "      <td>0.544341</td>\n",
       "      <td>0.266534</td>\n",
       "      <td>0.324595</td>\n",
       "      <td>0.127872</td>\n",
       "      <td>0.136734</td>\n",
       "      <td>0.025519</td>\n",
       "      <td>0.033561</td>\n",
       "      <td>1.000000</td>\n",
       "      <td>0.238356</td>\n",
       "    </tr>\n",
       "    <tr>\n",
       "      <th>Outcome</th>\n",
       "      <td>0.221898</td>\n",
       "      <td>0.492928</td>\n",
       "      <td>0.166074</td>\n",
       "      <td>0.215299</td>\n",
       "      <td>0.214411</td>\n",
       "      <td>0.311924</td>\n",
       "      <td>0.173844</td>\n",
       "      <td>0.238356</td>\n",
       "      <td>1.000000</td>\n",
       "    </tr>\n",
       "  </tbody>\n",
       "</table>\n",
       "</div>"
      ],
      "text/plain": [
       "                          Pregnancies   Glucose  BloodPressure  SkinThickness  \\\n",
       "Pregnancies                  1.000000  0.127911       0.208522       0.082989   \n",
       "Glucose                      0.127911  1.000000       0.218367       0.192991   \n",
       "BloodPressure                0.208522  0.218367       1.000000       0.192816   \n",
       "SkinThickness                0.082989  0.192991       0.192816       1.000000   \n",
       "Insulin                      0.056027  0.420157       0.072517       0.158139   \n",
       "BMI                          0.021565  0.230941       0.281268       0.542398   \n",
       "DiabetesPedigreeFunction    -0.033523  0.137060      -0.002763       0.100966   \n",
       "Age                          0.544341  0.266534       0.324595       0.127872   \n",
       "Outcome                      0.221898  0.492928       0.166074       0.215299   \n",
       "\n",
       "                           Insulin       BMI  DiabetesPedigreeFunction  \\\n",
       "Pregnancies               0.056027  0.021565                 -0.033523   \n",
       "Glucose                   0.420157  0.230941                  0.137060   \n",
       "BloodPressure             0.072517  0.281268                 -0.002763   \n",
       "SkinThickness             0.158139  0.542398                  0.100966   \n",
       "Insulin                   1.000000  0.166586                  0.098634   \n",
       "BMI                       0.166586  1.000000                  0.153400   \n",
       "DiabetesPedigreeFunction  0.098634  0.153400                  1.000000   \n",
       "Age                       0.136734  0.025519                  0.033561   \n",
       "Outcome                   0.214411  0.311924                  0.173844   \n",
       "\n",
       "                               Age   Outcome  \n",
       "Pregnancies               0.544341  0.221898  \n",
       "Glucose                   0.266534  0.492928  \n",
       "BloodPressure             0.324595  0.166074  \n",
       "SkinThickness             0.127872  0.215299  \n",
       "Insulin                   0.136734  0.214411  \n",
       "BMI                       0.025519  0.311924  \n",
       "DiabetesPedigreeFunction  0.033561  0.173844  \n",
       "Age                       1.000000  0.238356  \n",
       "Outcome                   0.238356  1.000000  "
      ]
     },
     "execution_count": 15,
     "metadata": {},
     "output_type": "execute_result"
    }
   ],
   "source": [
    "df.corr()"
   ]
  },
  {
   "cell_type": "code",
   "execution_count": 54,
   "id": "9a9237cb",
   "metadata": {},
   "outputs": [
    {
     "data": {
      "text/plain": [
       "<AxesSubplot:>"
      ]
     },
     "execution_count": 54,
     "metadata": {},
     "output_type": "execute_result"
    },
    {
     "data": {
      "image/png": "[encoded data removed]",
      "text/plain": [
       "<Figure size 720x576 with 2 Axes>"
      ]
     },
     "metadata": {
      "needs_background": "light"
     },
     "output_type": "display_data"
    }
   ],
   "source": [
    "plt.figure(figsize=(10,8))\n",
    "sns.heatmap(df.corr(),annot=True,cmap='flare')"
   ]
  },
  {
   "cell_type": "markdown",
   "id": "10a87625",
   "metadata": {},
   "source": [
    "# train test split "
   ]
  },
  {
   "cell_type": "code",
   "execution_count": 19,
   "id": "daaad43e",
   "metadata": {},
   "outputs": [],
   "source": [
    "x=df[['Glucose','BMI','Age']]\n",
    "y=df['Outcome']"
   ]
  },
  {
   "cell_type": "code",
   "execution_count": 20,
   "id": "7ff56277",
   "metadata": {},
   "outputs": [],
   "source": [
    "from sklearn.model_selection import train_test_split"
   ]
  },
  {
   "cell_type": "code",
   "execution_count": 21,
   "id": "2bf8d649",
   "metadata": {},
   "outputs": [],
   "source": [
    "x_train,x_test,y_train,y_test=train_test_split(x,y,test_size=0.3)"
   ]
  },
  {
   "cell_type": "code",
   "execution_count": 22,
   "id": "eec8dc5b",
   "metadata": {},
   "outputs": [
    {
     "data": {
      "text/html": [
       "<div>\n",
       "<style scoped>\n",
       "    .dataframe tbody tr th:only-of-type {\n",
       "        vertical-align: middle;\n",
       "    }\n",
       "\n",
       "    .dataframe tbody tr th {\n",
       "        vertical-align: top;\n",
       "    }\n",
       "\n",
       "    .dataframe thead th {\n",
       "        text-align: right;\n",
       "    }\n",
       "</style>\n",
       "<table border=\"1\" class=\"dataframe\">\n",
       "  <thead>\n",
       "    <tr style=\"text-align: right;\">\n",
       "      <th></th>\n",
       "      <th>Glucose</th>\n",
       "      <th>BMI</th>\n",
       "      <th>Age</th>\n",
       "    </tr>\n",
       "  </thead>\n",
       "  <tbody>\n",
       "    <tr>\n",
       "      <th>110</th>\n",
       "      <td>171.0</td>\n",
       "      <td>33.3</td>\n",
       "      <td>24</td>\n",
       "    </tr>\n",
       "    <tr>\n",
       "      <th>717</th>\n",
       "      <td>94.0</td>\n",
       "      <td>23.1</td>\n",
       "      <td>56</td>\n",
       "    </tr>\n",
       "    <tr>\n",
       "      <th>244</th>\n",
       "      <td>146.0</td>\n",
       "      <td>38.2</td>\n",
       "      <td>29</td>\n",
       "    </tr>\n",
       "    <tr>\n",
       "      <th>474</th>\n",
       "      <td>114.0</td>\n",
       "      <td>28.9</td>\n",
       "      <td>24</td>\n",
       "    </tr>\n",
       "    <tr>\n",
       "      <th>132</th>\n",
       "      <td>170.0</td>\n",
       "      <td>34.5</td>\n",
       "      <td>30</td>\n",
       "    </tr>\n",
       "    <tr>\n",
       "      <th>...</th>\n",
       "      <td>...</td>\n",
       "      <td>...</td>\n",
       "      <td>...</td>\n",
       "    </tr>\n",
       "    <tr>\n",
       "      <th>626</th>\n",
       "      <td>125.0</td>\n",
       "      <td>24.7</td>\n",
       "      <td>21</td>\n",
       "    </tr>\n",
       "    <tr>\n",
       "      <th>552</th>\n",
       "      <td>114.0</td>\n",
       "      <td>27.8</td>\n",
       "      <td>66</td>\n",
       "    </tr>\n",
       "    <tr>\n",
       "      <th>192</th>\n",
       "      <td>159.0</td>\n",
       "      <td>30.4</td>\n",
       "      <td>36</td>\n",
       "    </tr>\n",
       "    <tr>\n",
       "      <th>445</th>\n",
       "      <td>180.0</td>\n",
       "      <td>59.4</td>\n",
       "      <td>25</td>\n",
       "    </tr>\n",
       "    <tr>\n",
       "      <th>761</th>\n",
       "      <td>170.0</td>\n",
       "      <td>44.0</td>\n",
       "      <td>43</td>\n",
       "    </tr>\n",
       "  </tbody>\n",
       "</table>\n",
       "<p>537 rows × 3 columns</p>\n",
       "</div>"
      ],
      "text/plain": [
       "     Glucose   BMI  Age\n",
       "110    171.0  33.3   24\n",
       "717     94.0  23.1   56\n",
       "244    146.0  38.2   29\n",
       "474    114.0  28.9   24\n",
       "132    170.0  34.5   30\n",
       "..       ...   ...  ...\n",
       "626    125.0  24.7   21\n",
       "552    114.0  27.8   66\n",
       "192    159.0  30.4   36\n",
       "445    180.0  59.4   25\n",
       "761    170.0  44.0   43\n",
       "\n",
       "[537 rows x 3 columns]"
      ]
     },
     "execution_count": 22,
     "metadata": {},
     "output_type": "execute_result"
    }
   ],
   "source": [
    "x_train"
   ]
  },
  {
   "cell_type": "code",
   "execution_count": 23,
   "id": "2ee18b76",
   "metadata": {},
   "outputs": [
    {
     "data": {
      "text/html": [
       "<div>\n",
       "<style scoped>\n",
       "    .dataframe tbody tr th:only-of-type {\n",
       "        vertical-align: middle;\n",
       "    }\n",
       "\n",
       "    .dataframe tbody tr th {\n",
       "        vertical-align: top;\n",
       "    }\n",
       "\n",
       "    .dataframe thead th {\n",
       "        text-align: right;\n",
       "    }\n",
       "</style>\n",
       "<table border=\"1\" class=\"dataframe\">\n",
       "  <thead>\n",
       "    <tr style=\"text-align: right;\">\n",
       "      <th></th>\n",
       "      <th>Glucose</th>\n",
       "      <th>BMI</th>\n",
       "      <th>Age</th>\n",
       "    </tr>\n",
       "  </thead>\n",
       "  <tbody>\n",
       "    <tr>\n",
       "      <th>651</th>\n",
       "      <td>117.0</td>\n",
       "      <td>33.8</td>\n",
       "      <td>27</td>\n",
       "    </tr>\n",
       "    <tr>\n",
       "      <th>574</th>\n",
       "      <td>143.0</td>\n",
       "      <td>30.1</td>\n",
       "      <td>23</td>\n",
       "    </tr>\n",
       "    <tr>\n",
       "      <th>183</th>\n",
       "      <td>73.0</td>\n",
       "      <td>26.8</td>\n",
       "      <td>27</td>\n",
       "    </tr>\n",
       "    <tr>\n",
       "      <th>447</th>\n",
       "      <td>95.0</td>\n",
       "      <td>36.5</td>\n",
       "      <td>26</td>\n",
       "    </tr>\n",
       "    <tr>\n",
       "      <th>294</th>\n",
       "      <td>161.0</td>\n",
       "      <td>21.9</td>\n",
       "      <td>65</td>\n",
       "    </tr>\n",
       "    <tr>\n",
       "      <th>...</th>\n",
       "      <td>...</td>\n",
       "      <td>...</td>\n",
       "      <td>...</td>\n",
       "    </tr>\n",
       "    <tr>\n",
       "      <th>560</th>\n",
       "      <td>125.0</td>\n",
       "      <td>33.8</td>\n",
       "      <td>54</td>\n",
       "    </tr>\n",
       "    <tr>\n",
       "      <th>513</th>\n",
       "      <td>91.0</td>\n",
       "      <td>27.3</td>\n",
       "      <td>22</td>\n",
       "    </tr>\n",
       "    <tr>\n",
       "      <th>391</th>\n",
       "      <td>166.0</td>\n",
       "      <td>45.7</td>\n",
       "      <td>27</td>\n",
       "    </tr>\n",
       "    <tr>\n",
       "      <th>564</th>\n",
       "      <td>91.0</td>\n",
       "      <td>32.4</td>\n",
       "      <td>27</td>\n",
       "    </tr>\n",
       "    <tr>\n",
       "      <th>467</th>\n",
       "      <td>97.0</td>\n",
       "      <td>36.8</td>\n",
       "      <td>25</td>\n",
       "    </tr>\n",
       "  </tbody>\n",
       "</table>\n",
       "<p>231 rows × 3 columns</p>\n",
       "</div>"
      ],
      "text/plain": [
       "     Glucose   BMI  Age\n",
       "651    117.0  33.8   27\n",
       "574    143.0  30.1   23\n",
       "183     73.0  26.8   27\n",
       "447     95.0  36.5   26\n",
       "294    161.0  21.9   65\n",
       "..       ...   ...  ...\n",
       "560    125.0  33.8   54\n",
       "513     91.0  27.3   22\n",
       "391    166.0  45.7   27\n",
       "564     91.0  32.4   27\n",
       "467     97.0  36.8   25\n",
       "\n",
       "[231 rows x 3 columns]"
      ]
     },
     "execution_count": 23,
     "metadata": {},
     "output_type": "execute_result"
    }
   ],
   "source": [
    "x_test"
   ]
  },
  {
   "cell_type": "code",
   "execution_count": 24,
   "id": "c8e397e7",
   "metadata": {},
   "outputs": [
    {
     "data": {
      "text/plain": [
       "110    1\n",
       "717    0\n",
       "244    0\n",
       "474    0\n",
       "132    1\n",
       "      ..\n",
       "626    0\n",
       "552    0\n",
       "192    1\n",
       "445    1\n",
       "761    1\n",
       "Name: Outcome, Length: 537, dtype: int64"
      ]
     },
     "execution_count": 24,
     "metadata": {},
     "output_type": "execute_result"
    }
   ],
   "source": [
    "y_train"
   ]
  },
  {
   "cell_type": "code",
   "execution_count": 25,
   "id": "916ddaa9",
   "metadata": {},
   "outputs": [
    {
     "data": {
      "text/plain": [
       "651    0\n",
       "574    0\n",
       "183    0\n",
       "447    0\n",
       "294    0\n",
       "      ..\n",
       "560    1\n",
       "513    0\n",
       "391    1\n",
       "564    0\n",
       "467    0\n",
       "Name: Outcome, Length: 231, dtype: int64"
      ]
     },
     "execution_count": 25,
     "metadata": {},
     "output_type": "execute_result"
    }
   ],
   "source": [
    "y_test"
   ]
  },
  {
   "cell_type": "markdown",
   "id": "8f4c63e1",
   "metadata": {},
   "source": [
    "# k nearest neighbours"
   ]
  },
  {
   "cell_type": "code",
   "execution_count": 26,
   "id": "49851814",
   "metadata": {},
   "outputs": [],
   "source": [
    "from sklearn.neighbors import KNeighborsClassifier"
   ]
  },
  {
   "cell_type": "code",
   "execution_count": 27,
   "id": "ac426103",
   "metadata": {},
   "outputs": [],
   "source": [
    "knn=KNeighborsClassifier(n_neighbors=7)"
   ]
  },
  {
   "cell_type": "code",
   "execution_count": 29,
   "id": "bc69ae48",
   "metadata": {},
   "outputs": [
    {
     "data": {
      "text/plain": [
       "KNeighborsClassifier(n_neighbors=7)"
      ]
     },
     "execution_count": 29,
     "metadata": {},
     "output_type": "execute_result"
    }
   ],
   "source": [
    "knn.fit(x_train,y_train)"
   ]
  },
  {
   "cell_type": "code",
   "execution_count": 30,
   "id": "6a92a987",
   "metadata": {},
   "outputs": [],
   "source": [
    "predictions=knn.predict(x_test)"
   ]
  },
  {
   "cell_type": "code",
   "execution_count": 32,
   "id": "151a2c77",
   "metadata": {},
   "outputs": [
    {
     "data": {
      "text/plain": [
       "array([0, 0, 0, 0, 1, 1, 0, 0, 0, 0, 0, 0, 0, 0, 0, 0, 0, 0, 0, 0, 0, 1,\n",
       "       1, 0, 0, 1, 0, 1, 1, 0, 1, 1, 1, 1, 0, 0, 0, 0, 0, 0, 1, 0, 0, 0,\n",
       "       0, 0, 0, 0, 0, 0, 1, 0, 0, 0, 1, 0, 0, 0, 0, 0, 1, 1, 1, 1, 1, 1,\n",
       "       0, 0, 0, 0, 0, 0, 0, 1, 0, 0, 1, 0, 0, 1, 0, 1, 0, 0, 0, 1, 1, 1,\n",
       "       0, 0, 1, 0, 0, 0, 0, 1, 1, 0, 1, 1, 0, 0, 0, 0, 0, 0, 0, 0, 0, 0,\n",
       "       1, 0, 0, 0, 1, 0, 0, 0, 0, 1, 1, 0, 1, 0, 0, 1, 0, 1, 0, 0, 0, 0,\n",
       "       1, 0, 0, 0, 0, 0, 1, 0, 1, 0, 0, 0, 0, 0, 0, 1, 0, 0, 0, 0, 0, 0,\n",
       "       0, 1, 1, 0, 1, 0, 0, 0, 1, 0, 1, 0, 0, 0, 0, 0, 0, 0, 1, 0, 0, 0,\n",
       "       0, 1, 0, 0, 0, 0, 1, 0, 0, 1, 1, 0, 1, 1, 0, 0, 0, 0, 1, 0, 0, 1,\n",
       "       0, 0, 0, 0, 0, 0, 0, 0, 1, 0, 0, 1, 0, 1, 0, 0, 0, 1, 1, 1, 0, 1,\n",
       "       0, 0, 0, 0, 0, 0, 1, 0, 1, 0, 0], dtype=int64)"
      ]
     },
     "execution_count": 32,
     "metadata": {},
     "output_type": "execute_result"
    }
   ],
   "source": [
    "predictions"
   ]
  },
  {
   "cell_type": "code",
   "execution_count": 33,
   "id": "0a1a916d",
   "metadata": {},
   "outputs": [],
   "source": [
    "from sklearn.metrics import classification_report"
   ]
  },
  {
   "cell_type": "code",
   "execution_count": 34,
   "id": "aab7ecb0",
   "metadata": {},
   "outputs": [
    {
     "name": "stdout",
     "output_type": "stream",
     "text": [
      "              precision    recall  f1-score   support\n",
      "\n",
      "           0       0.79      0.86      0.82       152\n",
      "           1       0.67      0.56      0.61        79\n",
      "\n",
      "    accuracy                           0.75       231\n",
      "   macro avg       0.73      0.71      0.71       231\n",
      "weighted avg       0.75      0.75      0.75       231\n",
      "\n"
     ]
    }
   ],
   "source": [
    "print(classification_report(y_test,predictions))"
   ]
  },
  {
   "cell_type": "markdown",
   "id": "2216a799",
   "metadata": {},
   "source": [
    "# cross validation"
   ]
  },
  {
   "cell_type": "code",
   "execution_count": 35,
   "id": "64637d63",
   "metadata": {},
   "outputs": [],
   "source": [
    "from sklearn.model_selection import cross_val_score"
   ]
  },
  {
   "cell_type": "code",
   "execution_count": 36,
   "id": "ca345070",
   "metadata": {},
   "outputs": [
    {
     "data": {
      "text/plain": [
       "(768, 9)"
      ]
     },
     "execution_count": 36,
     "metadata": {},
     "output_type": "execute_result"
    }
   ],
   "source": [
    "df.shape"
   ]
  },
  {
   "cell_type": "code",
   "execution_count": 37,
   "id": "b5e2a8d5",
   "metadata": {},
   "outputs": [
    {
     "data": {
      "text/plain": [
       "153.6"
      ]
     },
     "execution_count": 37,
     "metadata": {},
     "output_type": "execute_result"
    }
   ],
   "source": [
    "768/5"
   ]
  },
  {
   "cell_type": "code",
   "execution_count": 38,
   "id": "1770b4bd",
   "metadata": {},
   "outputs": [
    {
     "data": {
      "text/plain": [
       "614.4"
      ]
     },
     "execution_count": 38,
     "metadata": {},
     "output_type": "execute_result"
    }
   ],
   "source": [
    "153.6*4"
   ]
  },
  {
   "cell_type": "code",
   "execution_count": 39,
   "id": "338592cb",
   "metadata": {},
   "outputs": [],
   "source": [
    "ks=list(range(1,600,2))"
   ]
  },
  {
   "cell_type": "code",
   "execution_count": 40,
   "id": "3e34f27f",
   "metadata": {},
   "outputs": [],
   "source": [
    "cvscores=[]"
   ]
  },
  {
   "cell_type": "code",
   "execution_count": 42,
   "id": "92900f95",
   "metadata": {},
   "outputs": [],
   "source": [
    "for k in ks:\n",
    "    testknn=KNeighborsClassifier(n_neighbors=k)\n",
    "    score=cross_val_score(testknn,x,y,cv=5,scoring='accuracy').mean()\n",
    "    cvscores.append(score)"
   ]
  },
  {
   "cell_type": "code",
   "execution_count": 43,
   "id": "9ded6c4b",
   "metadata": {},
   "outputs": [
    {
     "data": {
      "text/plain": [
       "[0.6784059078176725,\n",
       " 0.71883541295306,\n",
       " 0.7396400984636278,\n",
       " 0.7526695526695526,\n",
       " 0.7565486800780918,\n",
       " 0.7604872251931075,\n",
       " 0.7565571683218743,\n",
       " 0.7630846277905101,\n",
       " 0.7630761395467278,\n",
       " 0.7708768355827178,\n",
       " 0.7682964094728799,\n",
       " 0.7643918173329938,\n",
       " 0.7617774382480265,\n",
       " 0.7644003055767762,\n",
       " 0.7669977081741788,\n",
       " 0.7617859264918089,\n",
       " 0.7656735421441304,\n",
       " 0.7604787369493252,\n",
       " 0.7605042016806722,\n",
       " 0.7644003055767762,\n",
       " 0.7644172820643409,\n",
       " 0.756574144809439,\n",
       " 0.7578983108394872,\n",
       " 0.7565911212970036,\n",
       " 0.7552924199983023,\n",
       " 0.7592224768695356,\n",
       " 0.755309396485867,\n",
       " 0.7579152873270519,\n",
       " 0.7618113912231559,\n",
       " 0.7566080977845683,\n",
       " 0.752703505644682,\n",
       " 0.756599609540786,\n",
       " 0.756599609540786,\n",
       " 0.7605042016806722,\n",
       " 0.7578983108394872,\n",
       " 0.7552924199983023,\n",
       " 0.7592055003819709,\n",
       " 0.7578898225957049,\n",
       " 0.7591970121381886,\n",
       " 0.753993718699601,\n",
       " 0.7474747474747476,\n",
       " 0.7539852304558187,\n",
       " 0.7487819370172311,\n",
       " 0.752678040913335,\n",
       " 0.7500806383159324,\n",
       " 0.7526950174008997,\n",
       " 0.7513878278584161,\n",
       " 0.7487904252610134,\n",
       " 0.7487989135047959,\n",
       " 0.750097614803497,\n",
       " 0.752703505644682,\n",
       " 0.7540106951871657,\n",
       " 0.7513963161021984,\n",
       " 0.7513878278584161,\n",
       " 0.7513963161021984,\n",
       " 0.7526950174008997,\n",
       " 0.755309396485867,\n",
       " 0.752703505644682,\n",
       " 0.7566165860283507,\n",
       " 0.7605126899244545,\n",
       " 0.7605042016806722,\n",
       " 0.7592055003819709,\n",
       " 0.7578983108394872,\n",
       " 0.7565911212970036,\n",
       " 0.75007215007215,\n",
       " 0.7448773448773448,\n",
       " 0.746176046176046,\n",
       " 0.7474917239623122,\n",
       " 0.7501061030472795,\n",
       " 0.7474747474747474,\n",
       " 0.75007215007215,\n",
       " 0.7540022069433834,\n",
       " 0.7553009082420846,\n",
       " 0.7579067990832696,\n",
       " 0.7579067990832696,\n",
       " 0.7553009082420846,\n",
       " 0.7540022069433834,\n",
       " 0.7540022069433834,\n",
       " 0.7553009082420846,\n",
       " 0.756599609540786,\n",
       " 0.753993718699601,\n",
       " 0.7513878278584161,\n",
       " 0.7513878278584161,\n",
       " 0.75007215007215,\n",
       " 0.7474832357185297,\n",
       " 0.746176046176046,\n",
       " 0.7461845344198285,\n",
       " 0.7487819370172311,\n",
       " 0.750097614803497,\n",
       " 0.7500891265597147,\n",
       " 0.7513878278584161,\n",
       " 0.7500806383159324,\n",
       " 0.7461845344198286,\n",
       " 0.746176046176046,\n",
       " 0.7474747474747474,\n",
       " 0.7487734487734488,\n",
       " 0.7448688566335624,\n",
       " 0.746176046176046,\n",
       " 0.7474747474747474,\n",
       " 0.7474577709871827,\n",
       " 0.7448603683897801,\n",
       " 0.7500551735845853,\n",
       " 0.7500636618283677,\n",
       " 0.748756472285884,\n",
       " 0.7474577709871827,\n",
       " 0.7500636618283677,\n",
       " 0.7461590696884814,\n",
       " 0.7461675579322637,\n",
       " 0.7487649605296663,\n",
       " 0.7487649605296663,\n",
       " 0.7539597657244715,\n",
       " 0.7513623631270689,\n",
       " 0.7500636618283677,\n",
       " 0.7500636618283677,\n",
       " 0.7526695526695526,\n",
       " 0.7526610644257702,\n",
       " 0.7539597657244715,\n",
       " 0.7539597657244715,\n",
       " 0.7539597657244715,\n",
       " 0.7500636618283677,\n",
       " 0.7513623631270689,\n",
       " 0.7500551735845853,\n",
       " 0.7513623631270689,\n",
       " 0.75007215007215,\n",
       " 0.7500636618283677,\n",
       " 0.748756472285884,\n",
       " 0.7474492827434004,\n",
       " 0.746150581444699,\n",
       " 0.7474492827434004,\n",
       " 0.7500551735845853,\n",
       " 0.7500551735845853,\n",
       " 0.752652576181988,\n",
       " 0.752652576181988,\n",
       " 0.7539512774806892,\n",
       " 0.7526440879382056,\n",
       " 0.750046685340803,\n",
       " 0.750046685340803,\n",
       " 0.750046685340803,\n",
       " 0.750046685340803,\n",
       " 0.750046685340803,\n",
       " 0.7487479840421016,\n",
       " 0.750046685340803,\n",
       " 0.7500381970970207,\n",
       " 0.7500381970970207,\n",
       " 0.7500381970970207,\n",
       " 0.7500381970970207,\n",
       " 0.7487394957983193,\n",
       " 0.7500381970970207,\n",
       " 0.7474238180120534,\n",
       " 0.7487225193107546,\n",
       " 0.750021220609456,\n",
       " 0.7500127323656736,\n",
       " 0.7500042441218912,\n",
       " 0.7473983532807063,\n",
       " 0.7447924624395214,\n",
       " 0.7447924624395214,\n",
       " 0.7474068415244887,\n",
       " 0.746099651982005,\n",
       " 0.7474068415244887,\n",
       " 0.746099651982005,\n",
       " 0.7448009506833037,\n",
       " 0.7435022493846024,\n",
       " 0.7435022493846024,\n",
       " 0.7448094389270861,\n",
       " 0.7460996519820049,\n",
       " 0.7487055428231899,\n",
       " 0.7474068415244886,\n",
       " 0.7421950598421188,\n",
       " 0.7421950598421188,\n",
       " 0.7408878702996351,\n",
       " 0.7434937611408199,\n",
       " 0.7487140310669722,\n",
       " 0.7460996519820049,\n",
       " 0.7448009506833035,\n",
       " 0.7357015533486122,\n",
       " 0.7357015533486122,\n",
       " 0.7291656056361939,\n",
       " 0.7226466344113402,\n",
       " 0.7174178762414056,\n",
       " 0.7030642560054325,\n",
       " 0.7004583651642475,\n",
       " 0.7004498769204652,\n",
       " 0.6965452847805789,\n",
       " 0.6926576691282573,\n",
       " 0.6887615652321534,\n",
       " 0.6796451914098972,\n",
       " 0.6731347084288261,\n",
       " 0.6666412019353196,\n",
       " 0.6601392071980307,\n",
       " 0.6536457007045242,\n",
       " 0.6510482981071216,\n",
       " 0.6523469994058229,\n",
       " 0.6523469994058229,\n",
       " 0.6523469994058229,\n",
       " 0.6523469994058229,\n",
       " 0.6523469994058229,\n",
       " 0.6510482981071216,\n",
       " 0.6510482981071216,\n",
       " 0.6510482981071216,\n",
       " 0.6510482981071216,\n",
       " 0.6510482981071216,\n",
       " 0.6510482981071216,\n",
       " 0.6510482981071216,\n",
       " 0.6510482981071216,\n",
       " 0.6510482981071216,\n",
       " 0.6510482981071216,\n",
       " 0.6510482981071216,\n",
       " 0.6510482981071216,\n",
       " 0.6510482981071216,\n",
       " 0.6510482981071216,\n",
       " 0.6510482981071216,\n",
       " 0.6510482981071216,\n",
       " 0.6510482981071216,\n",
       " 0.6510482981071216,\n",
       " 0.6510482981071216,\n",
       " 0.6510482981071216,\n",
       " 0.6510482981071216,\n",
       " 0.6510482981071216,\n",
       " 0.6510482981071216,\n",
       " 0.6510482981071216,\n",
       " 0.6510482981071216,\n",
       " 0.6510482981071216,\n",
       " 0.6510482981071216,\n",
       " 0.6510482981071216,\n",
       " 0.6510482981071216,\n",
       " 0.6510482981071216,\n",
       " 0.6510482981071216,\n",
       " 0.6510482981071216,\n",
       " 0.6510482981071216,\n",
       " 0.6510482981071216,\n",
       " 0.6510482981071216,\n",
       " 0.6510482981071216,\n",
       " 0.6510482981071216,\n",
       " 0.6510482981071216,\n",
       " 0.6510482981071216,\n",
       " 0.6510482981071216,\n",
       " 0.6510482981071216,\n",
       " 0.6510482981071216,\n",
       " 0.6510482981071216,\n",
       " 0.6510482981071216,\n",
       " 0.6510482981071216,\n",
       " 0.6510482981071216,\n",
       " 0.6510482981071216,\n",
       " 0.6510482981071216,\n",
       " 0.6510482981071216,\n",
       " 0.6510482981071216,\n",
       " 0.6510482981071216,\n",
       " 0.6510482981071216,\n",
       " 0.6510482981071216,\n",
       " 0.6510482981071216,\n",
       " 0.6510482981071216,\n",
       " 0.6510482981071216,\n",
       " 0.6510482981071216,\n",
       " 0.6510482981071216,\n",
       " 0.6510482981071216,\n",
       " 0.6510482981071216,\n",
       " 0.6510482981071216,\n",
       " 0.6510482981071216,\n",
       " 0.6510482981071216,\n",
       " 0.6510482981071216,\n",
       " 0.6510482981071216,\n",
       " 0.6510482981071216,\n",
       " 0.6510482981071216,\n",
       " 0.6510482981071216,\n",
       " 0.6510482981071216,\n",
       " 0.6510482981071216,\n",
       " 0.6510482981071216,\n",
       " 0.6510482981071216,\n",
       " 0.6510482981071216,\n",
       " 0.6510482981071216,\n",
       " 0.6510482981071216,\n",
       " 0.6510482981071216,\n",
       " 0.6510482981071216,\n",
       " 0.6510482981071216,\n",
       " 0.6510482981071216,\n",
       " 0.6510482981071216,\n",
       " 0.6510482981071216,\n",
       " 0.6510482981071216,\n",
       " 0.6510482981071216,\n",
       " 0.6510482981071216,\n",
       " 0.6510482981071216,\n",
       " 0.6510482981071216,\n",
       " 0.6510482981071216,\n",
       " 0.6510482981071216,\n",
       " 0.6510482981071216,\n",
       " 0.6510482981071216,\n",
       " 0.6510482981071216,\n",
       " 0.6510482981071216,\n",
       " 0.6510482981071216,\n",
       " 0.6510482981071216,\n",
       " 0.6510482981071216,\n",
       " 0.6510482981071216,\n",
       " 0.6510482981071216,\n",
       " 0.6510482981071216,\n",
       " 0.6510482981071216,\n",
       " 0.6510482981071216,\n",
       " 0.6510482981071216,\n",
       " 0.6510482981071216,\n",
       " 0.6510482981071216,\n",
       " 0.6510482981071216]"
      ]
     },
     "execution_count": 43,
     "metadata": {},
     "output_type": "execute_result"
    }
   ],
   "source": [
    "cvscores"
   ]
  },
  {
   "cell_type": "code",
   "execution_count": 44,
   "id": "c357dcc5",
   "metadata": {},
   "outputs": [
    {
     "data": {
      "text/plain": [
       "0.7708768355827178"
      ]
     },
     "execution_count": 44,
     "metadata": {},
     "output_type": "execute_result"
    }
   ],
   "source": [
    "max(cvscores)"
   ]
  },
  {
   "cell_type": "code",
   "execution_count": 45,
   "id": "87f94336",
   "metadata": {},
   "outputs": [
    {
     "data": {
      "text/plain": [
       "9"
      ]
     },
     "execution_count": 45,
     "metadata": {},
     "output_type": "execute_result"
    }
   ],
   "source": [
    "cvscores.index(max(cvscores))"
   ]
  },
  {
   "cell_type": "code",
   "execution_count": 46,
   "id": "d5ef4995",
   "metadata": {},
   "outputs": [
    {
     "data": {
      "text/plain": [
       "19"
      ]
     },
     "execution_count": 46,
     "metadata": {},
     "output_type": "execute_result"
    }
   ],
   "source": [
    "ks[9]"
   ]
  },
  {
   "cell_type": "code",
   "execution_count": 47,
   "id": "f0b5b3f8",
   "metadata": {},
   "outputs": [
    {
     "data": {
      "text/plain": [
       "KNeighborsClassifier(n_neighbors=19)"
      ]
     },
     "execution_count": 47,
     "metadata": {},
     "output_type": "execute_result"
    }
   ],
   "source": [
    "finalknn=KNeighborsClassifier(n_neighbors=19)\n",
    "finalknn.fit(x_train,y_train)"
   ]
  },
  {
   "cell_type": "code",
   "execution_count": 48,
   "id": "0dfab2e7",
   "metadata": {},
   "outputs": [],
   "source": [
    "import pickle"
   ]
  },
  {
   "cell_type": "code",
   "execution_count": 49,
   "id": "73c79a2b",
   "metadata": {},
   "outputs": [],
   "source": [
    "pickle.dump(finalknn,open('KNN Model.pkl','wb'))"
   ]
  },
  {
   "cell_type": "code",
   "execution_count": 50,
   "id": "fd9f03bd",
   "metadata": {},
   "outputs": [],
   "source": [
    "loadedmodel=pickle.load(open('KNN Model.pkl','rb'))"
   ]
  },
  {
   "cell_type": "code",
   "execution_count": 51,
   "id": "623e302b",
   "metadata": {},
   "outputs": [
    {
     "data": {
      "text/plain": [
       "KNeighborsClassifier(n_neighbors=19)"
      ]
     },
     "execution_count": 51,
     "metadata": {},
     "output_type": "execute_result"
    }
   ],
   "source": [
    "loadedmodel"
   ]
  },
  {
   "cell_type": "code",
   "execution_count": 52,
   "id": "cc58fb76",
   "metadata": {},
   "outputs": [
    {
     "data": {
      "text/plain": [
       "array([1], dtype=int64)"
      ]
     },
     "execution_count": 52,
     "metadata": {},
     "output_type": "execute_result"
    }
   ],
   "source": [
    "loadedmodel.predict([[200,30,45]])"
   ]
  },
  {
   "cell_type": "code",
   "execution_count": null,
   "id": "5aa82bf7",
   "metadata": {},
   "outputs": [],
   "source": []
  }
 ],
 "metadata": {
  "kernelspec": {
   "display_name": "Python 3",
   "language": "python",
   "name": "python3"
  },
  "language_info": {
   "codemirror_mode": {
    "name": "ipython",
    "version": 3
   },
   "file_extension": ".py",
   "mimetype": "text/x-python",
   "name": "python",
   "nbconvert_exporter": "python",
   "pygments_lexer": "ipython3",
   "version": "3.8.8"
  }
 },
 "nbformat": 4,
 "nbformat_minor": 5
}
